{
  "cells": [
    {
      "cell_type": "markdown",
      "metadata": {
        "id": "4pK2C0doOpCu"
      },
      "source": [
        "# Primeira lista de exercícios - QUESTÃO 2\n",
        "## Alberto Romanhol Moreira - 2017051564\n",
        "\n",
        "### Funções de testes\n",
        "---\n",
        "Para realização do trabalho, utilizou-se de um programa desenvolvido em pyhton. O programa foi implementado para a função esfera, utilizando-se de N = 10.\n",
        "\n",
        "Inicialmente, gera-se população com números gerados no intervalo de -5.12 a 5.12.\n",
        "\n",
        "A partir da definição de uma função de *fitness*, são realizados operações genéticas de seleção de parentes e de mutações em cima dos filhos. Isso ocorre até se encontrar o melhor fitness ou haver limite de gerações.\n",
        "\n",
        "Ademais, foi definido que a função fitness pode ter uma margem de até 1x10^-4, para mais ou para menos.\n",
        "\n",
        "---\n",
        "## Bibliotecas importadas\n",
        "Primeiro, importa-se as bibliotecas de terceiros que serão utilizadas no desenvolvimento do tramanho. Sendo:\n",
        "- A **random** para ser geradadora de número aleatórios;\n"
      ]
    },
    {
      "cell_type": "code",
      "execution_count": 1,
      "metadata": {
        "id": "SlAIjeCnO4Vq"
      },
      "outputs": [],
      "source": [
        "import random as rnd"
      ]
    },
    {
      "cell_type": "markdown",
      "metadata": {
        "id": "C1-iYtGOO7an"
      },
      "source": [
        "---\n",
        "## Geração inicial de indivíduos\n",
        "É feita uma função responsável para geração inicial dos indivíduos, as soluções candidatas da primeira geração, representada pela função: \n"
      ]
    },
    {
      "cell_type": "code",
      "execution_count": 2,
      "metadata": {
        "id": "y0L17dC5PDJT"
      },
      "outputs": [],
      "source": [
        "def genotype_numbers():\n",
        "    return [round(rnd.uniform(-5.12, 5.12), 5) for _ in range(n_solution)]"
      ]
    },
    {
      "cell_type": "markdown",
      "metadata": {
        "id": "8u_Io_WVPLMF"
      },
      "source": [
        "---\n",
        "## Função *fitness*\n",
        "Desenvolve-se uma função de *fitness*, para avaliar a performace da função esfera candidata. Cria-se a função tanto para um vetor, as gerações, bem como para um número específico.\n"
      ]
    },
    {
      "cell_type": "code",
      "execution_count": 3,
      "metadata": {
        "id": "ZQNBDH2lPIDu"
      },
      "outputs": [],
      "source": [
        "def child_fitness_gen(number):\n",
        "    total_sum = 0\n",
        "    n = len(number)\n",
        "\n",
        "    for i in range(n):\n",
        "        for _ in range(n_solution): \n",
        "            total_sum += number[i]**2\n",
        "\n",
        "    fit = 1/(1 + abs(total_sum))\n",
        "        \n",
        "    return fit\n",
        "\n",
        "def child_fitness(number):\n",
        "    total_sum = 0\n",
        "\n",
        "    for _ in range(n_solution): \n",
        "        total_sum += number**2\n",
        "\n",
        "    fit = 1/(1 + abs(total_sum))\n",
        "\n",
        "    return fit"
      ]
    },
    {
      "cell_type": "markdown",
      "metadata": {
        "id": "zvYNz0AoPPQj"
      },
      "source": [
        "---\n",
        "## Mecanismo de seleção\n",
        "Defini-se então, dois mecanismos de seleção. \n",
        "- Um sendo uma forma de torneio. Retornando o maior candidato em uma tamanho de escolha aleatória da população.\n"
      ]
    },
    {
      "cell_type": "code",
      "execution_count": 4,
      "metadata": {
        "id": "y-AhT-aEPSTR"
      },
      "outputs": [],
      "source": [
        "def selected_tournment(population):\n",
        "    n = len(population)\n",
        "    return bigger_fitness_genotype(population[rnd.randint(0, n-1):n])"
      ]
    },
    {
      "cell_type": "markdown",
      "metadata": {
        "id": "hG39pxrZPU6T"
      },
      "source": [
        "\n",
        "- O outro sendo uma roleta russa, definida a partir da soma total de chance de fitness da população. Escolhe-se então, um candidato aleatório desta população.\n"
      ]
    },
    {
      "cell_type": "code",
      "execution_count": 5,
      "metadata": {
        "id": "CVuhl2-5PXjQ"
      },
      "outputs": [],
      "source": [
        "def roulette_wheel(population):\n",
        "    probabilities = [probability(n) for n in population]\n",
        "\n",
        "    total = sum(probabilities)\n",
        "    pick = rnd.uniform(0, total)\n",
        "    current = 0\n",
        "\n",
        "    for i in range(len(probabilities)):\n",
        "        current += probabilities[i]\n",
        "        if current > pick:\n",
        "            return i\n"
      ]
    },
    {
      "cell_type": "markdown",
      "metadata": {
        "id": "sgOszGAdPZku"
      },
      "source": [
        "- Função que retorna a probabilidade do indivíduo."
      ]
    },
    {
      "cell_type": "code",
      "execution_count": 6,
      "metadata": {
        "id": "7lfb0-shPb-z"
      },
      "outputs": [],
      "source": [
        "def probability(chromosome):\n",
        "    return child_fitness(chromosome)"
      ]
    },
    {
      "cell_type": "markdown",
      "metadata": {
        "id": "TMoH7U-GPedQ"
      },
      "source": [
        "\n",
        "Cria-se então, a função que será responsável por escolher o método a ser utilizado, com uma chance de 20% para o torneio.\n"
      ]
    },
    {
      "cell_type": "code",
      "execution_count": 7,
      "metadata": {
        "id": "6rkimvu4Pf8C"
      },
      "outputs": [],
      "source": [
        "def pick_parent(population):\n",
        "    selected_tournment_probability = 0.2\n",
        "\n",
        "    if (selected_tournment_probability > rnd.random()):\n",
        "        parent = selected_tournment(population)\n",
        "    else:\n",
        "        parent = population[roulette_wheel(population)]\n",
        "\n",
        "    return parent"
      ]
    },
    {
      "cell_type": "markdown",
      "metadata": {
        "id": "y4iTZAHYPjxs"
      },
      "source": [
        "---\n",
        "## Variação genética\n",
        "Define-se então, dois mecanismos de variação genética.\n",
        "- Uma função, parecida com o crossover, que transforma os pais em 2 filhos, a partir de um equacionamento envolvendo os pais."
      ]
    },
    {
      "cell_type": "code",
      "execution_count": 8,
      "metadata": {
        "id": "VpWQI9VZPlg4"
      },
      "outputs": [],
      "source": [
        "def crossover(x, y):\n",
        "    return (x+y)*x, (x+y)*y"
      ]
    },
    {
      "cell_type": "markdown",
      "metadata": {
        "id": "jn3d2CH9Pnh5"
      },
      "source": [
        "- Uma função de mutação, que a partir da chance de mutação de 5%, pega uma posição aleatória no cromossomo e define um valor aleatório, no intervalo -5.12 e 5.12, para este."
      ]
    },
    {
      "cell_type": "code",
      "execution_count": 9,
      "metadata": {
        "id": "iMIiftkYPpcx"
      },
      "outputs": [],
      "source": [
        "def mutate(child):\n",
        "    mutation_probability = 0.05\n",
        "\n",
        "    if (mutation_probability > rnd.random()):\n",
        "        child = round(rnd.uniform(-5.12, 5.12), 5)\n",
        "\n",
        "    return child"
      ]
    },
    {
      "cell_type": "markdown",
      "metadata": {
        "id": "qfmkpU2nPrnv"
      },
      "source": [
        "É definido então a função responsável pela geração do filho, a partir dos pais. A partir destes, escolhe-se o de maior fitness para compor a nova população.\n"
      ]
    },
    {
      "cell_type": "code",
      "execution_count": 10,
      "metadata": {
        "id": "UM1erzaWPvV1"
      },
      "outputs": [],
      "source": [
        "def pick_children(parent1, parent2):\n",
        "    child1, child2 = crossover(parent1, parent2)\n",
        "    child1 = mutate(child1)\n",
        "    child2 = mutate(child2)\n",
        "\n",
        "    child = bigger_fitness_genotype([child1, child2])\n",
        "\n",
        "    return child"
      ]
    },
    {
      "cell_type": "markdown",
      "metadata": {
        "id": "TgA8Cr0NPxWv"
      },
      "source": [
        "\n",
        "---\n",
        "## Criação de uma nova população\n",
        "A partir das definições de seleção e variação genética, define-se uma função responsável pela geração de uma nova população. A partir dos métodos já citadas de `pick_parent` e `pick_children`."
      ]
    },
    {
      "cell_type": "code",
      "execution_count": 11,
      "metadata": {
        "id": "miIvpjEPPz9w"
      },
      "outputs": [],
      "source": [
        "def new_generation(population):\n",
        "    new_population = []\n",
        "    for chrom in population:\n",
        "        new_chrom = []\n",
        "        for _ in range(len(chrom)):\n",
        "            parent1 = pick_parent(chrom)\n",
        "            parent2 = pick_parent(chrom)\n",
        "            child = pick_children(parent1, parent2)\n",
        "            # show_children(child)\n",
        "            new_chrom.append(child)\n",
        "\n",
        "        new_population.append(new_chrom)\n",
        "\n",
        "    return new_population"
      ]
    },
    {
      "cell_type": "markdown",
      "metadata": {
        "id": "nkESkb8uP2Um"
      },
      "source": [
        "Além disso, utiliza-se de uma função para exibir o cromossomo no console e o seu respectivo fitness. Função foi comentada para melhor entrega do trabalho."
      ]
    },
    {
      "cell_type": "code",
      "execution_count": 12,
      "metadata": {
        "id": "cxkzMO8DP5CW"
      },
      "outputs": [],
      "source": [
        "def show_children(child):\n",
        "    print('chromosome = {}, fitness = {}'\n",
        "        .format(str(child), fitness(child)))"
      ]
    },
    {
      "cell_type": "markdown",
      "metadata": {
        "id": "OVMUudQMP62J"
      },
      "source": [
        "---\n",
        "## Encontrando a melhor população\n",
        "É definido uma função que irá encontrar a melhor população, que possui como critério de parada o número máximo de gerações ou quando encontra-se o *fitness* na presente geração."
      ]
    },
    {
      "cell_type": "code",
      "execution_count": 13,
      "metadata": {
        "id": "TXckTdxlP-my"
      },
      "outputs": [],
      "source": [
        "def find_best_population(population):\n",
        "    generation = 0\n",
        "    max_generation = 1024\n",
        "    \n",
        "    while generation < max_generation and not is_perfect_solution(population):\n",
        "        generation += 1\n",
        "        population = new_generation(population)\n",
        "        print('generation = {}, best fitness = {}'.format(generation, (max([child_fitness_gen(n) for n in population]))))\n",
        "\n",
        "    print('found a generation', generation)\n",
        "    return population"
      ]
    },
    {
      "cell_type": "markdown",
      "metadata": {
        "id": "Ph9LHAZYQAUX"
      },
      "source": [
        "A função de verificar se é solução perfeita `is_perfect_solution` foi criada para encontrar alguns dos elementos se encontra no itervalo de soliçao definido."
      ]
    },
    {
      "cell_type": "code",
      "execution_count": 14,
      "metadata": {
        "id": "-aPSawTzQByT"
      },
      "outputs": [],
      "source": [
        "def is_perfect_solution(population):\n",
        "    for chrom in population:\n",
        "        for number in chrom:\n",
        "            fit = child_fitness(number)\n",
        "            if (fit > (perfect_solution - limit_solution) and fit < (perfect_solution + limit_solution)):\n",
        "                return True\n",
        "    return False"
      ]
    },
    {
      "cell_type": "markdown",
      "metadata": {
        "id": "UIyWd3EXQDm5"
      },
      "source": [
        "\n",
        "---\n",
        "## Funções auxiliares\n",
        "Define-se ainda, algumas funções auxiliares, como a para retornar o indivíduo com o melhor fitness da população. Bem como o melhor número de uma geração.\n"
      ]
    },
    {
      "cell_type": "code",
      "execution_count": 15,
      "metadata": {
        "id": "42F_BU3MQG1A"
      },
      "outputs": [],
      "source": [
        "def bigger_fitness_genotype(population):\n",
        "    best_fitness = 0\n",
        "\n",
        "    for chrom in population:\n",
        "        if child_fitness(chrom) > best_fitness:\n",
        "            best_fitness = child_fitness(chrom)\n",
        "            c = chrom\n",
        "    \n",
        "    return c"
      ]
    },
    {
      "cell_type": "code",
      "execution_count": 16,
      "metadata": {},
      "outputs": [],
      "source": [
        "\n",
        "def bigger_fitness_number(population):\n",
        "    best_fitness = 0\n",
        "\n",
        "    for chrom in population:\n",
        "        for number in chrom:\n",
        "            fit = child_fitness(number)\n",
        "            if (fit > best_fitness):\n",
        "                best_fitness = child_fitness(number)\n",
        "                c = number\n",
        "        \n",
        "    return c"
      ]
    },
    {
      "cell_type": "markdown",
      "metadata": {
        "id": "Fuob0jgVQRFg"
      },
      "source": [
        "\n",
        "---\n",
        "## Programa principal\n",
        "\n",
        "A partir das funções definidas anteriormente, é encontrado a melhor população, seguindo o critério de *fitness* ou de parada por número de gerações. E, a partir disso, é encontrado o indivíduo com maior *fitness*, não sendo necessariamente o máximo."
      ]
    },
    {
      "cell_type": "code",
      "execution_count": 17,
      "metadata": {
        "colab": {
          "base_uri": "https://localhost:8080/",
          "height": 0
        },
        "id": "pa64YSvIQS3l",
        "outputId": "53a82092-37ad-4841-d68e-edb453c26027"
      },
      "outputs": [
        {
          "name": "stdout",
          "output_type": "stream",
          "text": [
            "-----------------------------------\n",
            "max fitness: 1.0\n",
            "n_population: 10\n",
            "-----------------------------------\n",
            "generation = 1, best fitness = 0.7755244191666016\n",
            "generation = 2, best fitness = 0.9989209084059316\n",
            "found a generation 2\n"
          ]
        }
      ],
      "source": [
        "\n",
        "print('-----------------------------------')\n",
        "n_solution = 10\n",
        "perfect_solution = 1/(1+0)\n",
        "print('max fitness:', perfect_solution)\n",
        "\n",
        "limit_solution = 1e-4\n",
        "\n",
        "n_population = 10\n",
        "print('n_population:', n_population)\n",
        "print('-----------------------------------')\n",
        "\n",
        "population = [ genotype_numbers() for _ in range(n_population) ]\n",
        "\n",
        "best_pouplation = find_best_population(population)\n",
        "bigger_fitness = bigger_fitness_number(best_pouplation)\n"
      ]
    },
    {
      "cell_type": "markdown",
      "metadata": {
        "id": "y-bMa4PNQUgV"
      },
      "source": [
        "---\n",
        "A partir desse resultado, pode-se imprimir no console o resultado do programa. Apresentando os dados do problema, o tipo de solução encontrada, o valor e o fitness do indivíduo.\n"
      ]
    },
    {
      "cell_type": "code",
      "execution_count": 18,
      "metadata": {
        "colab": {
          "base_uri": "https://localhost:8080/",
          "height": 0
        },
        "id": "jIfDc6tFQWSO",
        "outputId": "b67f8e11-2395-4629-8ecf-5c56a32d685a"
      },
      "outputs": [
        {
          "name": "stdout",
          "output_type": "stream",
          "text": [
            "-----------------------------------\n",
            "n queen problem - genetic algorithm\n",
            "n_solution: 10\n",
            "n_population: 10\n",
            "max fitness: 1.0\n",
            "-----------------------------------\n",
            "found a solution by fitness\n",
            "found fitness: 0.9999999819652609\n",
            "best_number: 4.2467328e-05\n",
            "-----------------------------------\n"
          ]
        }
      ],
      "source": [
        "print('-----------------------------------')\n",
        "print('n queen problem - genetic algorithm')\n",
        "print('n_solution:', n_solution)\n",
        "print('n_population:', n_population)\n",
        "print('max fitness:', perfect_solution)\n",
        "print('-----------------------------------')\n",
        "fit = child_fitness(bigger_fitness)\n",
        "if (fit > (perfect_solution - limit_solution) and fit < (perfect_solution + limit_solution)):\n",
        "    print('found a solution by fitness')\n",
        "else:\n",
        "    print('no solution, stopped by generation limit')\n",
        "print('found fitness:', child_fitness(bigger_fitness))\n",
        "print('best_number:', bigger_fitness)\n",
        "print('-----------------------------------')"
      ]
    }
  ],
  "metadata": {
    "colab": {
      "authorship_tag": "ABX9TyPVW8NFDylt6dKnHs85XYT3",
      "collapsed_sections": [],
      "include_colab_link": true,
      "name": "nqueens-alberto.ipynb",
      "provenance": []
    },
    "kernelspec": {
      "display_name": "Python 3",
      "name": "python3"
    },
    "language_info": {
      "codemirror_mode": {
        "name": "ipython",
        "version": 3
      },
      "file_extension": ".py",
      "mimetype": "text/x-python",
      "name": "python",
      "nbconvert_exporter": "python",
      "pygments_lexer": "ipython3",
      "version": "3.9.4"
    }
  },
  "nbformat": 4,
  "nbformat_minor": 0
}
