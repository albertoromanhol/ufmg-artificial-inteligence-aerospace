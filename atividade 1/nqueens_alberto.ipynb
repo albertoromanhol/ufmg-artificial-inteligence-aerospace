{
  "cells": [
    {
      "cell_type": "markdown",
      "metadata": {
        "id": "4pK2C0doOpCu"
      },
      "source": [
        "# Primeira lista de exercícios\n",
        "## Alberto Romanhol Moreira - 2017051564\n",
        "\n",
        "### Problema N-Queens\n",
        "---\n",
        "Para realização do trabalho, utilizou-se de um programa desenvolvido em pyhton. Ao rodar o programa, é solicidade o número de rainhas, *n-queens*, para se procurar a solução via algorítimo genérico.  A partir desse número de rainhas, é definido o tamanho da popução e o número máximo de gerações.\n",
        "\n",
        "São criados cromossomos, em forma de vetor de tamanho N, contendo número de 1 a N. Sendo estes, representando a linha em que uma rainha se encontra e a coluna representado pela posição deste no vetor.\n",
        "\n",
        "A partir da definição de uma função de *fitness*, são realizados operações genéticas de seleção de parentes e de mutações em cima dos filhos. Isso ocorre até se encontrar o melhor fitness ou haver limite de gerações.\n",
        "\n",
        "---\n",
        "## Bibliotecas importadas\n",
        "Primeiro, importa-se as bibliotecas de terceiros que serão utilizadas no desenvolvimento do tramanho. Sendo:\n",
        "- A **random** para ser geradadora de número aleatórios;\n",
        "- A **numpy** para fazer manipulação em array.\n"
      ]
    },
    {
      "cell_type": "code",
      "execution_count": 20,
      "metadata": {
        "id": "SlAIjeCnO4Vq"
      },
      "outputs": [],
      "source": [
        "import random as rnd\n",
        "import numpy as np"
      ]
    },
    {
      "cell_type": "markdown",
      "metadata": {
        "id": "C1-iYtGOO7an"
      },
      "source": [
        "---\n",
        "## Geração inicial de indivíduos\n",
        "É feita uma função responsável para geração inicial dos indivíduos, as soluções candidatas da primeira geração, representada pela função: \n"
      ]
    },
    {
      "cell_type": "code",
      "execution_count": 21,
      "metadata": {
        "id": "y0L17dC5PDJT"
      },
      "outputs": [],
      "source": [
        "def genotype_queens(n):\n",
        "    return [ rnd.randint(1, n) for _ in range(n)]"
      ]
    },
    {
      "cell_type": "markdown",
      "metadata": {
        "id": "8u_Io_WVPLMF"
      },
      "source": [
        "---\n",
        "## Função *fitness*\n",
        "Desenvolve-se uma função de *fitness*, para avaliar a performace de uma função candidata. Possui alguns pontos a se destacar.\n",
        " - A partir do cromossomos de rainhas, reduz-se em uma unidade as linhas em que as rainhas se encontram, para o valor ser condizente ao mostrado pela função for (que se inicia em zero);\n",
        "- Para cada coluna, compara-se o valor presente nas outras colunas, a se encontrar uma forma de ataque, para outras rainhas:\n",
        "  - Se está na mesma coluna, a partir dos valores da coluna.\n",
        "  - Se está na mesma linha, a partir dos valores da linha.\n",
        "  - Se ocorre ataque diagonal. A partir da inclicação entre a coluna e linha relativa.\n",
        "- Caso o ataque não acontece, é somado uma unidade ao score, contabilizando que não ocorreu o ataque;\n",
        "- Ao final, o score é dividido por dois, a fim de se envitar duplicidades."
      ]
    },
    {
      "cell_type": "code",
      "execution_count": 22,
      "metadata": {
        "id": "ZQNBDH2lPIDu"
      },
      "outputs": [],
      "source": [
        "def fitness(chromosome):\n",
        "    score = 0\n",
        "    n = len(chromosome)\n",
        "    chromosome = np.array(chromosome) - 1\n",
        "\n",
        "    for col in range(n): \n",
        "        row = chromosome[col]  \n",
        "        \n",
        "        for other_col in range(n):\n",
        "            other_row = chromosome[other_col]\n",
        "            if other_col == col:\n",
        "                continue\n",
        "            if other_row == row:\n",
        "                continue\n",
        "            if other_col + other_row == col + row:\n",
        "                continue\n",
        "            if other_col - other_row == col - row:\n",
        "                continue\n",
        "            score += 1\n",
        "    return score/2"
      ]
    },
    {
      "cell_type": "markdown",
      "metadata": {
        "id": "zvYNz0AoPPQj"
      },
      "source": [
        "---\n",
        "## Mecanismo de seleção\n",
        "Defini-se então, dois mecanismos de seleção. \n",
        "- Um sendo uma forma de torneio. Retornando o maior candidato em uma tamanho de escolha aleatória da população.\n"
      ]
    },
    {
      "cell_type": "code",
      "execution_count": 23,
      "metadata": {
        "id": "y-AhT-aEPSTR"
      },
      "outputs": [],
      "source": [
        "def selected_tournment(population):\n",
        "    n = len(population)\n",
        "    return bigger_fitness_genotype(population[rnd.randint(0, n-1):n])"
      ]
    },
    {
      "cell_type": "markdown",
      "metadata": {
        "id": "hG39pxrZPU6T"
      },
      "source": [
        "\n",
        "- O outro sendo uma roleta russa, definida a partir da soma total de chance de fitness da população. Escolhe-se então, um candidato aleatório desta população.\n"
      ]
    },
    {
      "cell_type": "code",
      "execution_count": 24,
      "metadata": {
        "id": "CVuhl2-5PXjQ"
      },
      "outputs": [],
      "source": [
        "def roulette_wheel(population):\n",
        "    probabilities = [probability(n) for n in population]\n",
        "\n",
        "    total = sum(probabilities)\n",
        "    pick = rnd.uniform(0, total)\n",
        "    current = 0\n",
        "\n",
        "    for i in range(len(probabilities)):\n",
        "        current += probabilities[i]\n",
        "        if current > pick:\n",
        "            return i\n"
      ]
    },
    {
      "cell_type": "markdown",
      "metadata": {
        "id": "sgOszGAdPZku"
      },
      "source": [
        "- Função que retorna a probabilidade do indivíduo ser o melhor.\n"
      ]
    },
    {
      "cell_type": "code",
      "execution_count": 25,
      "metadata": {
        "id": "7lfb0-shPb-z"
      },
      "outputs": [],
      "source": [
        "def probability(chromosome):\n",
        "    return fitness(chromosome) / max_collisions"
      ]
    },
    {
      "cell_type": "markdown",
      "metadata": {
        "id": "TMoH7U-GPedQ"
      },
      "source": [
        "\n",
        "Cria-se então, a função que será responsável por escolher o método a ser utilizado, com uma chance de 20% para o torneio.\n"
      ]
    },
    {
      "cell_type": "code",
      "execution_count": 26,
      "metadata": {
        "id": "6rkimvu4Pf8C"
      },
      "outputs": [],
      "source": [
        "def pick_parent(population):\n",
        "    selected_tournment_probability = 0.2\n",
        "\n",
        "    if (selected_tournment_probability > rnd.random()):\n",
        "        parent = selected_tournment(population)\n",
        "    else:\n",
        "        parent = population[roulette_wheel(population)]\n",
        "\n",
        "    return parent"
      ]
    },
    {
      "cell_type": "markdown",
      "metadata": {
        "id": "y4iTZAHYPjxs"
      },
      "source": [
        "---\n",
        "## Variação genética\n",
        "Define-se então, dois mecanismos de variação genética.\n",
        "- Uma função de crossover, que divide os parentes em posição aleatória de 0 a N. E une as diferentes partes."
      ]
    },
    {
      "cell_type": "code",
      "execution_count": 27,
      "metadata": {
        "id": "VpWQI9VZPlg4"
      },
      "outputs": [],
      "source": [
        "def crossover(x, y):\n",
        "    n = len(x)\n",
        "    c = rnd.randint(0, n - 1)\n",
        "    return x[0:c] + y[c:n], y[0:c] + x[c:n]"
      ]
    },
    {
      "cell_type": "markdown",
      "metadata": {
        "id": "jn3d2CH9Pnh5"
      },
      "source": [
        "- Uma função de mutação, que a partir da chance de mutação de 5%, pega uma posição aleatória no cromossomo e define um valor aleatório de 0 a N para esta posição."
      ]
    },
    {
      "cell_type": "code",
      "execution_count": 28,
      "metadata": {
        "id": "iMIiftkYPpcx"
      },
      "outputs": [],
      "source": [
        "def mutate(chromosome):\n",
        "    mutation_probability = 0.05\n",
        "\n",
        "    if (mutation_probability > rnd.random()):\n",
        "        n = len(chromosome)\n",
        "        position = rnd.randrange(0, n)\n",
        "        chromosome[position] = rnd.randrange(1, n + 1)\n",
        "\n",
        "    return chromosome"
      ]
    },
    {
      "cell_type": "markdown",
      "metadata": {
        "id": "qfmkpU2nPrnv"
      },
      "source": [
        "É definido então a função responsável pela geração do filho, a partir dos pais. A partir destes, escolhe-se o de maior fitness para compor a nova população.\n"
      ]
    },
    {
      "cell_type": "code",
      "execution_count": 29,
      "metadata": {
        "id": "UM1erzaWPvV1"
      },
      "outputs": [],
      "source": [
        "def pick_children(parent1, parent2):\n",
        "    child1, child2 = crossover(parent1, parent2)\n",
        "    child1 = mutate(child1)\n",
        "    child2 = mutate(child2)\n",
        "\n",
        "    child = bigger_fitness_genotype([child1, child2])\n",
        "\n",
        "    return child"
      ]
    },
    {
      "cell_type": "markdown",
      "metadata": {
        "id": "TgA8Cr0NPxWv"
      },
      "source": [
        "\n",
        "---\n",
        "## Criação de uma nova população\n",
        "A partir das definições de seleção e variação genética, define-se uma função responsável pela geração de uma nova população. A partir dos métodos já citadas de `pick_parent` e `pick_children`."
      ]
    },
    {
      "cell_type": "code",
      "execution_count": 30,
      "metadata": {
        "id": "miIvpjEPPz9w"
      },
      "outputs": [],
      "source": [
        "def new_generation(population):\n",
        "    new_population = []\n",
        "\n",
        "    for _ in range(len(population)):\n",
        "        parent1 = pick_parent(population)\n",
        "        parent2 = pick_parent(population)\n",
        "        child = pick_children(parent1, parent2)\n",
        "        #show_children(child)\n",
        "        new_population.append(child)\n",
        "\n",
        "        if fitness(child) == max_collisions: break\n",
        "\n",
        "    return new_population"
      ]
    },
    {
      "cell_type": "markdown",
      "metadata": {
        "id": "nkESkb8uP2Um"
      },
      "source": [
        "Além disso, utiliza-se de uma função para exibir o cromossomo no console e o seu respectivo fitness. Função foi comentada para melhor entrega do trabalho."
      ]
    },
    {
      "cell_type": "code",
      "execution_count": 31,
      "metadata": {
        "id": "cxkzMO8DP5CW"
      },
      "outputs": [],
      "source": [
        "def show_children(child):\n",
        "    print('chromosome = {}, fitness = {}'\n",
        "        .format(str(child), fitness(child)))"
      ]
    },
    {
      "cell_type": "markdown",
      "metadata": {
        "id": "OVMUudQMP62J"
      },
      "source": [
        "---\n",
        "## Encontrando a melhor população\n",
        "É definido uma função que irá encontrar a melhor população, que possui como critério de parada o número máximo de gerações ou quando encontra-se o *fitness* na presente geração."
      ]
    },
    {
      "cell_type": "code",
      "execution_count": 32,
      "metadata": {
        "id": "TXckTdxlP-my"
      },
      "outputs": [],
      "source": [
        "def find_best_population(population):\n",
        "    generation = 0\n",
        "    \n",
        "    max_generation = get_max_generation()\n",
        "    \n",
        "    while generation < max_generation and not max_collisions in [fitness(queens) for queens in population]:\n",
        "        generation += 1\n",
        "        population = new_generation(population)\n",
        "        print('generation = {}, best fitness = {}'.format(generation, (max([fitness(n) for n in population]))))\n",
        "\n",
        "    print('found a generation', generation)\n",
        "    return population"
      ]
    },
    {
      "cell_type": "markdown",
      "metadata": {
        "id": "Ph9LHAZYQAUX"
      },
      "source": [
        "\n",
        "A função de número máximo de gerações é definida a partir do número de gerações. A partir da função linear `-13\\*len(pythonpopulation[0]) + 277`. Esta definida, para o limite de geração para 6 rainhas ser de aproximadamente 200 e o de 20, ser 20, valores definidos a partir de testes com o código."
      ]
    },
    {
      "cell_type": "code",
      "execution_count": 33,
      "metadata": {
        "id": "-aPSawTzQByT"
      },
      "outputs": [],
      "source": [
        "def get_max_generation():\n",
        "    max_generation = -13*len(population[0]) + 277\n",
        "    print('max_generation = {}'.format(max_generation))\n",
        "    return max_generation"
      ]
    },
    {
      "cell_type": "markdown",
      "metadata": {
        "id": "UIyWd3EXQDm5"
      },
      "source": [
        "\n",
        "---\n",
        "## Funções auxiliares\n",
        "Define-se ainda, algumas funções auxiliares, como a para retornar o indivíduo com o melhor fitness da população.\n"
      ]
    },
    {
      "cell_type": "code",
      "execution_count": 34,
      "metadata": {
        "id": "42F_BU3MQG1A"
      },
      "outputs": [],
      "source": [
        "def bigger_fitness_genotype(population):\n",
        "    best_fitness = 0\n",
        "\n",
        "    for chrom in population:\n",
        "        if fitness(chrom) > best_fitness:\n",
        "            best_fitness = fitness(chrom)\n",
        "            c = chrom\n",
        "    \n",
        "    return c"
      ]
    },
    {
      "cell_type": "code",
      "execution_count": 35,
      "metadata": {
        "id": "XGi10VgTQK18"
      },
      "outputs": [],
      "source": [
        "def bigger_fitness_genotype(population):\n",
        "    best_fitness = 0\n",
        "\n",
        "    for chrom in population:\n",
        "        if fitness(chrom) > best_fitness:\n",
        "            best_fitness = fitness(chrom)\n",
        "            c = chrom\n",
        "    \n",
        "    return c"
      ]
    },
    {
      "cell_type": "markdown",
      "metadata": {
        "id": "oLwrU8GYQN2f"
      },
      "source": [
        "\n",
        "E uma outra função para transformar o vetor das rainhas em um board, sendo x representando um espaço em branco e o Q representando o posicionamento da rainha."
      ]
    },
    {
      "cell_type": "code",
      "execution_count": 36,
      "metadata": {
        "id": "AOR_wqL8QPDm"
      },
      "outputs": [],
      "source": [
        "def print_board(n_queens):\n",
        "    board = []\n",
        "    n = len(n_queens)\n",
        "    for _ in range(n):\n",
        "        board.append([\"x\"] * n)\n",
        "    for i in range(n):\n",
        "        board[n_queens[i]-1][i]=\"Q\"\n",
        "    for row in board:\n",
        "        print (\" \".join(row))"
      ]
    },
    {
      "cell_type": "markdown",
      "metadata": {
        "id": "Fuob0jgVQRFg"
      },
      "source": [
        "\n",
        "---\n",
        "## Programa principal\n",
        "\n",
        "A partir da entrada do número de rainhas a ser utilizado no problema, cálcula-se o número máximo de colisões que pode acontecer `(n_queens*(n_queens-1))/2`. Defini-se ainda, a partir do número de rainhas, o tamanho da população de `2*(n_queens**2) `.\n",
        "\n",
        "A partir da geração de inidíduos, gera-se valores do tamanho da população e de aconrdo com o número de rainhas. A partir das funções definidas anteriormente, é encontrado a melhor população, seguindo o critério de *fitness* ou de parada por número de gerações. E, a partir disso, é encontrado o indivíduo com maior *fitness*, não sendo necessariamente o máximo."
      ]
    },
    {
      "cell_type": "code",
      "execution_count": 37,
      "metadata": {
        "colab": {
          "base_uri": "https://localhost:8080/",
          "height": 0
        },
        "id": "pa64YSvIQS3l",
        "outputId": "53a82092-37ad-4841-d68e-edb453c26027"
      },
      "outputs": [
        {
          "name": "stdout",
          "output_type": "stream",
          "text": [
            "max fitness: 28.0\n",
            "n_population: 128\n",
            "max_generation = 173\n",
            "generation = 1, best fitness = 25.0\n",
            "generation = 2, best fitness = 25.0\n",
            "generation = 3, best fitness = 26.0\n",
            "generation = 4, best fitness = 27.0\n",
            "generation = 5, best fitness = 27.0\n",
            "generation = 6, best fitness = 27.0\n",
            "generation = 7, best fitness = 27.0\n",
            "generation = 8, best fitness = 27.0\n",
            "generation = 9, best fitness = 27.0\n",
            "generation = 10, best fitness = 27.0\n",
            "generation = 11, best fitness = 27.0\n",
            "generation = 12, best fitness = 27.0\n",
            "generation = 13, best fitness = 28.0\n",
            "found a generation 13\n"
          ]
        }
      ],
      "source": [
        "n_queens = int(input(\"number of queens: \"))\n",
        "max_collisions = (n_queens*(n_queens-1))/2\n",
        "print('max fitness:', max_collisions)\n",
        "\n",
        "n_population = 2*(n_queens**2)\n",
        "print('n_population:', n_population)\n",
        "\n",
        "population = [genotype_queens(n_queens) for _ in range(n_population)]\n",
        "\n",
        "best_pouplation = find_best_population(population)\n",
        "bigger_fitness = bigger_fitness_genotype(best_pouplation)\n"
      ]
    },
    {
      "cell_type": "markdown",
      "metadata": {
        "id": "y-bMa4PNQUgV"
      },
      "source": [
        "---\n",
        "A partir desse resultado, pode-se imprimir no console o resultado do programa. Apresentando os dados do problema, o tipo de solução encontrada, o fitness do indivíduo e uma representação do tabuleiro.\n"
      ]
    },
    {
      "cell_type": "code",
      "execution_count": 38,
      "metadata": {
        "colab": {
          "base_uri": "https://localhost:8080/",
          "height": 0
        },
        "id": "jIfDc6tFQWSO",
        "outputId": "b67f8e11-2395-4629-8ecf-5c56a32d685a"
      },
      "outputs": [
        {
          "name": "stdout",
          "output_type": "stream",
          "text": [
            "-----------------------------------\n",
            "n queen problem - genetic algorithm\n",
            "n_queens: 8\n",
            "n_population: 128\n",
            "max fitness: 28.0\n",
            "-----------------------------------\n",
            "found a solution by fitness\n",
            "found fitness: 28.0\n",
            "best_queen: [6, 3, 7, 4, 1, 8, 2, 5]\n",
            "x x x x Q x x x\n",
            "x x x x x x Q x\n",
            "x Q x x x x x x\n",
            "x x x Q x x x x\n",
            "x x x x x x x Q\n",
            "Q x x x x x x x\n",
            "x x Q x x x x x\n",
            "x x x x x Q x x\n",
            "-----------------------------------\n"
          ]
        }
      ],
      "source": [
        "print('-----------------------------------')\n",
        "print('n queen problem - genetic algorithm')\n",
        "print('n_queens:', n_queens)\n",
        "print('n_population:', n_population)\n",
        "print('max fitness:', max_collisions)\n",
        "print('-----------------------------------')\n",
        "if fitness(bigger_fitness) == max_collisions:\n",
        "    print('found a solution by fitness')\n",
        "else:\n",
        "    print('no solution, stopped by generation limit')\n",
        "print('found fitness:', fitness(bigger_fitness))\n",
        "print('best_queen:', bigger_fitness)\n",
        "print_board(bigger_fitness)\n",
        "print('-----------------------------------')"
      ]
    }
  ],
  "metadata": {
    "colab": {
      "authorship_tag": "ABX9TyPVW8NFDylt6dKnHs85XYT3",
      "collapsed_sections": [],
      "include_colab_link": true,
      "name": "nqueens-alberto.ipynb",
      "provenance": []
    },
    "kernelspec": {
      "display_name": "Python 3",
      "name": "python3"
    },
    "language_info": {
      "codemirror_mode": {
        "name": "ipython",
        "version": 3
      },
      "file_extension": ".py",
      "mimetype": "text/x-python",
      "name": "python",
      "nbconvert_exporter": "python",
      "pygments_lexer": "ipython3",
      "version": "3.9.4"
    }
  },
  "nbformat": 4,
  "nbformat_minor": 0
}
