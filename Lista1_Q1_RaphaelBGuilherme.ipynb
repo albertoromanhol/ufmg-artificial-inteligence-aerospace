{
  "nbformat": 4,
  "nbformat_minor": 0,
  "metadata": {
    "colab": {
      "name": "Lista1_Q1_RaphaelBGuilherme.ipynb",
      "provenance": [],
      "collapsed_sections": [],
      "include_colab_link": true
    },
    "kernelspec": {
      "name": "python3",
      "display_name": "Python 3"
    },
    "language_info": {
      "name": "python"
    }
  },
  "cells": [
    {
      "cell_type": "markdown",
      "metadata": {
        "id": "view-in-github",
        "colab_type": "text"
      },
      "source": [
        "<a href=\"https://colab.research.google.com/github/albertoromanhol/ufmg-artificial-inteligence-aerospace/blob/main/Lista1_Q1_RaphaelBGuilherme.ipynb\" target=\"_parent\"><img src=\"https://colab.research.google.com/assets/colab-badge.svg\" alt=\"Open In Colab\"/></a>"
      ]
    },
    {
      "cell_type": "markdown",
      "metadata": {
        "id": "7BmKZFMnTMPL"
      },
      "source": [
        "**Disciplina:** Inteligência Artificial - 2021/2\n",
        "\n",
        "**Lista 1 - Questão 1**\n",
        "\n",
        "**Aluno:** Raphael B. Guilherme\n",
        "\n",
        "**Matrícula:** 2017097750 "
      ]
    },
    {
      "cell_type": "markdown",
      "metadata": {
        "id": "nANPZVWoEOgz"
      },
      "source": [
        "## Dado um tabuleiro de xadrez com dimensões N × N e N rainhas distribuídas pelo mesmo, deseja-se posicionar as peças em questão de forma que nenhuma delas possa ser capturada.\n",
        "\n",
        "\n",
        "\n",
        "---\n",
        "\n",
        "\n",
        "\n",
        "Dessa forma, é necessário garantir que rainhas não possuam alcance com relação umas as outras. A figura abaixo ilustra, em roxo, o alcance de uma rainha hipotética representada por pelo ponto preto.  "
      ]
    },
    {
      "cell_type": "markdown",
      "metadata": {
        "id": "binBaWRDKeWE"
      },
      "source": [
        "![picture](https://drive.google.com/uc?export=view&id=14ssGqtVCnu07AGMlfb9lk-of40GwmDdq)"
      ]
    },
    {
      "cell_type": "markdown",
      "metadata": {
        "id": "YwZxYXAAEzP0"
      },
      "source": [
        "**INÍCIO DA SOLUÇÃO**\n",
        "\n",
        "Bibliotecas utilizadas: **random** (geração de números aleatórios para primeiras gerações e mutações) e **numpy** (manipulação algébrica de vetores)"
      ]
    },
    {
      "cell_type": "code",
      "metadata": {
        "id": "nIzinuZDE0Uz"
      },
      "source": [
        "import random \n",
        "import numpy as np"
      ],
      "execution_count": null,
      "outputs": []
    },
    {
      "cell_type": "markdown",
      "metadata": {
        "id": "TNYn6LR6FM8N"
      },
      "source": [
        "**Definindo** o número de cenários hipotéticos avaliados a cada iteração, assim como as dimensões do tabuleiro/número de rainhas (N)"
      ]
    },
    {
      "cell_type": "code",
      "metadata": {
        "id": "HaHfsfxAFVCE"
      },
      "source": [
        "n_tabuleiros = 100\n",
        "N = 7"
      ],
      "execution_count": null,
      "outputs": []
    },
    {
      "cell_type": "markdown",
      "metadata": {
        "id": "XSuBtC2BFZQC"
      },
      "source": [
        "Listas de cenários hipotéticos são criadas seguindo a convenção: cada cenário possui N rainhas, posicionadas na linha vertical correspondente a sua posição no array, e em uma linha correspondente ao valor referente a rainha em questão. Colunas e linhas possuem sua contagem iniciada em 0.  "
      ]
    },
    {
      "cell_type": "code",
      "metadata": {
        "id": "fBFcBEeJFewh"
      },
      "source": [
        "candidates = []\n",
        "for i in range(n_tabuleiros):\n",
        "  board_positions = []\n",
        "  for j in range(N):\n",
        "    queen_position = random.randint(0,N-1)\n",
        "    board_positions.append(queen_position)\n",
        "  candidates.append(board_positions)"
      ],
      "execution_count": null,
      "outputs": []
    },
    {
      "cell_type": "markdown",
      "metadata": {
        "id": "GoXWA_d0FoeD"
      },
      "source": [
        "Início das iterações, enquanto uma solução em que não haja rainhas sob ataque não seja encontrada. \n",
        "\n",
        "---\n",
        "\n",
        "Opta-se por a cada iteração, manter 40% dos cenários com menor número de rainhas sob ataque. Tais cenários são permutados para a geração de filhos (20% dos cenários da nova iteração) e mutados para variabilidade (40% dos cenários da nova iteração) "
      ]
    },
    {
      "cell_type": "code",
      "metadata": {
        "colab": {
          "base_uri": "https://localhost:8080/"
        },
        "id": "fjlBzfVxEJY_",
        "outputId": "f2b03009-6ebb-46f5-c679-dc4c194085ad"
      },
      "source": [
        "solution_found = False\n",
        "iterations = 1\n",
        "\n",
        "while solution_found == False: \n",
        "\n",
        "  #avaliando quantas rainhas se atacam em cada cenário e ordenando de forma a priorizar cenários com menos ataques mutuos \n",
        "  for board in candidates:\n",
        "    queens_under_attack = 0\n",
        "\n",
        "    #variaveis auxiliares para avaliar ataques na diagonal\n",
        "    position_vector = np.array(list(range(0,N)))\n",
        "    board_as_numpy = np.array(board)\n",
        "    column = 0\n",
        "\n",
        "    for row in board:\n",
        "      under_attack = False\n",
        "      \n",
        "      #avaliando ataques diagonais \n",
        "\n",
        "      column_vector = np.array([column]*N)\n",
        "      #incremento na variável column para permitir calculo da posição relativa entre colunas de rainhas do cenário hipotético\n",
        "      column += 1\n",
        "      #coluna relativa entre rainhas (rainha analisanda na iteração tem valor 0)\n",
        "      relative_column = abs(position_vector - column_vector)\n",
        "\n",
        "      row_vector = np.array([row]*N)\n",
        "      #linha relativa entre rainhas (rainha analisada na iteração tem valor 0)\n",
        "      relative_row = abs(board_as_numpy - row_vector)  \n",
        "\n",
        "      #rainhas que tenham a mesma diferença de linhas e colunas para a rainha de referencia estão na diagonal da mesma, atacando-a\n",
        "      if (np.count_nonzero((relative_row-relative_column) == 0)) > 1:\n",
        "        under_attack = True\n",
        "\n",
        "      #avaliando ataques laterais (implica que outra rainha esteja na mesma linha da rainha de referencia)\n",
        "      if np.count_nonzero(board_as_numpy == row) > 1: \n",
        "        under_attack = True\n",
        "\n",
        "      #se rainha é atacada de alguma forma, somar 1 ao contador de rainhas sob ataque do tabuleiro hipotético\n",
        "      if under_attack == True:\n",
        "        queens_under_attack += 1\n",
        "\n",
        "    #anexando número de rainhas sob ataque ao cenário hipotético\n",
        "    board.append(queens_under_attack)\n",
        "\n",
        "  #rearranjando lista para priorizar casos com menos ataques mutuos \n",
        "  candidates.sort(key = lambda candidates:candidates[-1])\n",
        "\n",
        "  #caso uma possível solução tenha sido encontrada\n",
        "  if candidates[0][-1] == 0:\n",
        "    solution_found = True\n",
        "    solution = candidates[0][:-1]\n",
        "    print(\"Possível arranjo solução:\")\n",
        "    print(candidates[0][:-1])\n",
        "    print('Número de iterações necessárias:' + str(iteracoes))\n",
        "\n",
        "  #removendo marcador de ataques antes da próxima iteração\n",
        "  for board in candidates:\n",
        "    board.pop()\n",
        "\n",
        "  #nova geração para iteração\n",
        "  #40% pais com melhor fit\n",
        "  new_gen = []\n",
        "  best_solutions = candidates[:round(0.4*n_tabuleiros)] #top 40% \n",
        "  new_gen =  best_solutions\n",
        "\n",
        "  #aplicando cruzamento por ponto de corte\n",
        "  #20% da nova geração será de filhos dos pais de maior fit\n",
        "  i = 0\n",
        "  childs = []\n",
        "  while i < len(best_solutions)-1:\n",
        "    slice_1 = best_solutions[i][:round(N/2)]\n",
        "    slice_2 = best_solutions[i+1][round(N/2):]\n",
        "    childs.append(slice_1 + slice_2)\n",
        "    i += 2\n",
        "  new_gen = new_gen + childs\n",
        "  \n",
        "  #mutações\n",
        "  #40% de mutações daqueles com melhor fit \n",
        "  for mutation in best_solutions: \n",
        "    position = random.randint(0,N-1)\n",
        "    gene = random.randint(0,N-1)\n",
        "    if mutation[position] == gene:\n",
        "      mutation[position] = abs(gene - 1) \n",
        "    else: \n",
        "      mutation[position] = gene\n",
        "  \n",
        "  #vetor de cenários para nova iteração, caso ocorra\n",
        "  new_gen = new_gen + best_solutions      \n",
        "  #incremento do marcador do número de iterações, antes do próximo ciclo\n",
        "  iterations += 1\n"
      ],
      "execution_count": null,
      "outputs": [
        {
          "output_type": "stream",
          "name": "stdout",
          "text": [
            "Possível arranjo solução:\n",
            "[1, 3, 0, 6, 4, 2, 5]\n",
            "Número de iterações necessárias:161\n"
          ]
        }
      ]
    },
    {
      "cell_type": "markdown",
      "metadata": {
        "id": "HeepAPy8JLIh"
      },
      "source": [
        "## Visualização do tabuleiro baseado na solução encontrada\n",
        "\n",
        "---\n",
        "\n",
        "As posições das rainhas em questão são indicadas pela letra 'Q', enquanto os demais campos, preenchidos com pontos, são vazios."
      ]
    },
    {
      "cell_type": "code",
      "metadata": {
        "colab": {
          "base_uri": "https://localhost:8080/"
        },
        "id": "tMnHyjnSEKYR",
        "outputId": "56272e1b-8c86-4568-b283-832b084abbe6"
      },
      "source": [
        "final_board = []\n",
        "n = len(solution)\n",
        "for _ in range(n):\n",
        "    final_board.append([\".\"] * n)\n",
        "for i in range(n):\n",
        "    final_board[solution[i]][i]=\"Q\"\n",
        "for row in final_board:\n",
        "    print (\" \".join(row))"
      ],
      "execution_count": null,
      "outputs": [
        {
          "output_type": "stream",
          "name": "stdout",
          "text": [
            ". . Q . . . .\n",
            "Q . . . . . .\n",
            ". . . . . Q .\n",
            ". Q . . . . .\n",
            ". . . . Q . .\n",
            ". . . . . . Q\n",
            ". . . Q . . .\n"
          ]
        }
      ]
    }
  ]
}