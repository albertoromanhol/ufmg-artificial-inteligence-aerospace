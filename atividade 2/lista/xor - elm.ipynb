{
 "cells": [
  {
   "cell_type": "markdown",
   "metadata": {},
   "source": [
    "##### 1.1 - XOR\n",
    "\n",
    "2. ELM"
   ]
  },
  {
   "cell_type": "code",
   "execution_count": 100,
   "metadata": {},
   "outputs": [],
   "source": [
    "import numpy as np\n",
    "import matplotlib.pyplot as plt\n",
    "import pandas as pd\n",
    "from sklearn.utils import shuffle"
   ]
  },
  {
   "cell_type": "code",
   "execution_count": 101,
   "metadata": {},
   "outputs": [],
   "source": [
    "def trainELMPseudoInverse(x, y, p):\n",
    "    n = np.shape(x)[1]\n",
    "    z = np.random.rand(n, p) - 0.5\n",
    "    z = np.resize(z, (z.shape[0], z.shape[1]))\n",
    "\n",
    "    for _ in range(maxEpocas):\n",
    "        h = np.tanh(np.dot(x, z))\n",
    "        w = np.dot(np.linalg.pinv(h), y)\n",
    "\n",
    "    return z,w\n",
    "\n",
    "def yELM(z, w, test):\n",
    "    w = np.resize(w, (w.shape[0], 1))\n",
    "    classified_H = np.tanh(np.dot(test, z))\n",
    "    classified = np.sign(np.tanh(np.dot(classified_H, w)))\n",
    "    return classified"
   ]
  },
  {
   "cell_type": "code",
   "execution_count": 102,
   "metadata": {},
   "outputs": [],
   "source": [
    "dataFrame = pd.read_csv('data/xor.csv')\n",
    "dataFrame = shuffle(dataFrame)"
   ]
  },
  {
   "cell_type": "code",
   "execution_count": 103,
   "metadata": {},
   "outputs": [],
   "source": [
    "N = len(dataFrame)\n",
    "\n",
    "# 70% for train and 30% for test\n",
    "trainSize = int(0.7*N)\n",
    "testSize = N - trainSize\n",
    "\n",
    "trainData = dataFrame.head(trainSize)\n",
    "testDate = dataFrame.tail(testSize)\n",
    "\n",
    "# data train\n",
    "x1_train = trainData[trainData['classes'] == 1]['x.1'].to_numpy()\n",
    "x1_train = np.resize(x1_train, (trainSize, 1))\n",
    "y1_train = trainData[trainData['classes'] == 1]['x.2'].to_numpy()\n",
    "y1_train = np.resize(y1_train, (trainSize, 1))\n",
    "\n",
    "x2_train = trainData[trainData['classes'] == 2]['x.1'].to_numpy()\n",
    "x2_train = np.resize(x2_train, (trainSize, 1))\n",
    "y2_train = trainData[trainData['classes'] == 2]['x.2'].to_numpy()\n",
    "y2_train = np.resize(y2_train, (trainSize, 1))\n",
    "\n",
    "# data test\n",
    "x1_test = testDate[testDate['classes'] == 1]['x.1'].to_numpy()\n",
    "x1_test = np.resize(x1_test, (testSize, 1))\n",
    "y1_test = testDate[testDate['classes'] == 1]['x.2'].to_numpy()\n",
    "y1_test = np.resize(y1_test, (testSize, 1))\n",
    "\n",
    "x2_test = testDate[testDate['classes'] == 2]['x.1'].to_numpy()\n",
    "x2_test = np.resize(x2_test, (testSize, 1))\n",
    "y2_test = testDate[testDate['classes'] == 2]['x.2'].to_numpy()\n",
    "y2_test = np.resize(y2_test, (testSize, 1))"
   ]
  },
  {
   "cell_type": "code",
   "execution_count": 104,
   "metadata": {},
   "outputs": [],
   "source": [
    "# class train\n",
    "class_train_1 = -1*np.ones((x1_train.shape[0], 1))\n",
    "class_train_2 = np.ones((x2_train.shape[0], 1))\n",
    "\n",
    "class_train = np.concatenate((class_train_1, class_train_2), axis = 0)\n",
    "\n",
    "# trains\n",
    "xin_train_1 = np.concatenate((x1_train, y1_train), axis = 1)\n",
    "xin_train_2 = np.concatenate((x2_train, y2_train), axis = 1)\n",
    "xin_train_1_2 = np.concatenate((xin_train_1, xin_train_2), axis = 0)\n",
    "\n",
    "bias = np.ones((xin_train_1_2.shape[0], 1))\n",
    "xin = np.concatenate((xin_train_1_2, bias), axis = 1)\n",
    "\n",
    "# test\n",
    "class_test_1 = -1*np.ones((x1_test.shape[0], 1))\n",
    "class_test_2 = np.ones((x2_test.shape[0], 1))\n",
    "class_test = np.concatenate((class_test_1, class_test_2))\n",
    "\n",
    "xin_test_1 = np.concatenate((x1_test, y1_test), axis = 1)\n",
    "xin_test_2 = np.concatenate((x2_test, y2_test), axis = 1)\n",
    "\n",
    "test_range = np.concatenate((xin_test_1, xin_test_2), axis = 0)\n",
    "test_range = np.concatenate((test_range, np.ones((test_range.shape[0], 1))), axis = 1)\n"
   ]
  },
  {
   "cell_type": "code",
   "execution_count": 105,
   "metadata": {},
   "outputs": [
    {
     "data": {
      "image/png": "[encoded data removed]",
      "text/plain": [
       "<Figure size 432x288 with 1 Axes>"
      ]
     },
     "metadata": {
      "needs_background": "light"
     },
     "output_type": "display_data"
    }
   ],
   "source": [
    "maxEpocas = 30\n",
    "p = 8\n",
    "z, wt = trainELMPseudoInverse(xin, class_train, p)\n",
    "\n",
    "# matrix de pontos xy\n",
    "xgrid = np.linspace(-1.1, 1.1, 250)\n",
    "ygrid = np.linspace(-1.1, 1.1, 250)\n",
    "xygrid = np.zeros((xgrid.shape[0]*ygrid.shape[0], 2))\n",
    "xMeshGrid, yMeshGrid = np.meshgrid(xgrid, ygrid)\n",
    "\n",
    "classMeshgrid = np.zeros((xgrid.shape[0], ygrid.shape[0]))\n",
    "\n",
    "for i, i_pt in enumerate(ygrid):\n",
    "  for j, j_pt in enumerate(xgrid):\n",
    "    H = np.tanh(np.dot([i_pt, j_pt, 1], z))\n",
    "    xyClass = np.sign(np.tanh(np.dot(H, wt)))\n",
    "    classMeshgrid[i, j] = xyClass\n",
    "\n",
    "plt.scatter(x1_train, y1_train, color='b')\n",
    "plt.scatter(x2_train, y2_train, color='r')\n",
    "plt.scatter(x1_test, y1_test, color='b', facecolor='none')\n",
    "plt.scatter(x2_test, y2_test, color='r', facecolor='none')\n",
    "plt.legend(['Train 1', 'Train 2', 'Test 1', 'Test 2'])\n",
    "plt.contour(xMeshGrid, yMeshGrid, classMeshgrid, colors=['k'], levels = 0)\n",
    "plt.show()"
   ]
  },
  {
   "cell_type": "code",
   "execution_count": 106,
   "metadata": {},
   "outputs": [
    {
     "name": "stdout",
     "output_type": "stream",
     "text": [
      "Erro quadrado:     0.8667\n",
      "Accuracy:     0.5667\n",
      "Std Error:     0.8239\n"
     ]
    }
   ],
   "source": [
    "\n",
    "def erroCalc(yEval, actualClass):\n",
    "    error = np.absolute(actualClass - yEval)\n",
    "    meanError = np.mean(error)\n",
    "    stdError = np.std(error)\n",
    "    accuracy = 1 - meanError\n",
    "    errorTest = (yEval - actualClass)**2\n",
    "    errorTest_MS = np.mean(errorTest)\n",
    "\n",
    "    return accuracy, stdError, errorTest_MS\n",
    "\n",
    "classified_H = np.tanh(np.dot(test_range, z))\n",
    "classified = np.sign(np.tanh(np.dot(classified_H, wt)))\n",
    "\n",
    "accuracy, stdError, errorMS = erroCalc(classified, class_test)\n",
    "errorTest = (classified - class_test)**2\n",
    "errorTest_MS = np.mean(errorTest)\n",
    "\n",
    "print('Erro quadrado: {:10.4f}'.format(errorTest_MS))\n",
    "print('Accuracy: {:10.4f}'.format(accuracy))\n",
    "print('Std Error: {:10.4f}'.format(stdError))"
   ]
  }
 ],
 "metadata": {
  "interpreter": {
   "hash": "63fd5069d213b44bf678585dea6b12cceca9941eaf7f819626cde1f2670de90d"
  },
  "kernelspec": {
   "display_name": "Python 3.9.4 64-bit",
   "language": "python",
   "name": "python3"
  },
  "language_info": {
   "codemirror_mode": {
    "name": "ipython",
    "version": 3
   },
   "file_extension": ".py",
   "mimetype": "text/x-python",
   "name": "python",
   "nbconvert_exporter": "python",
   "pygments_lexer": "ipython3",
   "version": "3.9.4"
  },
  "orig_nbformat": 4
 },
 "nbformat": 4,
 "nbformat_minor": 2
}
