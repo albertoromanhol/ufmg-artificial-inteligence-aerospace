{
 "cells": [
  {
   "cell_type": "markdown",
   "metadata": {},
   "source": [
    "##### 1.2 - SPIRALS\n",
    "\n",
    "3. MLP"
   ]
  },
  {
   "cell_type": "code",
   "execution_count": 46,
   "metadata": {},
   "outputs": [],
   "source": [
    "import numpy as np\n",
    "import matplotlib.pyplot as plt\n",
    "import pandas as pd\n",
    "from sklearn.utils import shuffle"
   ]
  },
  {
   "cell_type": "code",
   "execution_count": 47,
   "metadata": {},
   "outputs": [],
   "source": [
    "dataFrame = pd.read_csv('../data/spirals.csv')\n",
    "dataFrame = shuffle(dataFrame)"
   ]
  },
  {
   "cell_type": "code",
   "execution_count": 48,
   "metadata": {},
   "outputs": [
    {
     "data": {
      "image/png": "[encoded data removed]",
      "text/plain": [
       "<Figure size 432x288 with 1 Axes>"
      ]
     },
     "metadata": {
      "needs_background": "light"
     },
     "output_type": "display_data"
    }
   ],
   "source": [
    "N = len(dataFrame)\n",
    "\n",
    "# 70% for train and 30% for test\n",
    "trainSize = int(0.7*N)\n",
    "testSize = N - trainSize\n",
    "\n",
    "trainData = dataFrame.head(trainSize)\n",
    "testDate = dataFrame.tail(testSize)\n",
    "\n",
    "# data train\n",
    "x1_train = trainData[trainData['classes'] == 1]['x.1'].to_numpy()\n",
    "x1_train = np.resize(x1_train, (trainSize, 1))\n",
    "y1_train = trainData[trainData['classes'] == 1]['x.2'].to_numpy()\n",
    "y1_train = np.resize(y1_train, (trainSize, 1))\n",
    "\n",
    "x2_train = trainData[trainData['classes'] == 2]['x.1'].to_numpy()\n",
    "x2_train = np.resize(x2_train, (trainSize, 1))\n",
    "y2_train = trainData[trainData['classes'] == 2]['x.2'].to_numpy()\n",
    "y2_train = np.resize(y2_train, (trainSize, 1))\n",
    "\n",
    "# data test\n",
    "x1_test = testDate[testDate['classes'] == 1]['x.1'].to_numpy()\n",
    "x1_test = np.resize(x1_test, (testSize, 1))\n",
    "y1_test = testDate[testDate['classes'] == 1]['x.2'].to_numpy()\n",
    "y1_test = np.resize(y1_test, (testSize, 1))\n",
    "\n",
    "x2_test = testDate[testDate['classes'] == 2]['x.1'].to_numpy()\n",
    "x2_test = np.resize(x2_test, (testSize, 1))\n",
    "y2_test = testDate[testDate['classes'] == 2]['x.2'].to_numpy()\n",
    "y2_test = np.resize(y2_test, (testSize, 1))\n",
    "\n",
    "# PLOT\n",
    "plt.scatter(x1_train, y1_train, color='b')\n",
    "plt.scatter(x2_train, y2_train, color='r')\n",
    "plt.scatter(x1_test, y1_test, color='b', facecolor='none')\n",
    "plt.scatter(x2_test, y2_test, color='r', facecolor='none')\n",
    "plt.legend(['Train 1', 'Train 2', 'Test 1', 'Test 2'])\n",
    "plt.show()"
   ]
  },
  {
   "cell_type": "code",
   "execution_count": 49,
   "metadata": {},
   "outputs": [],
   "source": [
    "xin_train_1 = np.concatenate((x1_train, y1_train), axis = 1)\n",
    "xin_train_2 = np.concatenate((x2_train, y2_train), axis = 1)\n",
    "xin_train_1_2 = np.concatenate((xin_train_1, xin_train_2), axis = 0)\n",
    "xin_train = np.array(xin_train_1_2)\n",
    "\n",
    "###\n",
    "actual_test = np.concatenate((-1*np.ones((testSize, 1)), np.ones((testSize, 1))))\n",
    "test_1 = np.concatenate((x1_test, y1_test), axis = 1)\n",
    "test_2 = np.concatenate((x2_test, y2_test), axis = 1)\n",
    "test_range = np.concatenate((test_1, test_2), axis = 0)\n",
    "\n",
    "###\n",
    "class_train_1 = -1*np.ones((x1_train.shape[0], 1))\n",
    "class_train_2 = np.ones((x2_train.shape[0], 1))\n",
    "class_train = np.concatenate((class_train_1, class_train_2), axis = 0)"
   ]
  },
  {
   "cell_type": "code",
   "execution_count": 50,
   "metadata": {},
   "outputs": [],
   "source": [
    "def activation_y(u):\n",
    "    return np.tanh(u)\n",
    "\n",
    "def derivActivation_y(u):\n",
    "    return (((2/(np.exp(u) + np.exp(-u)))*(2/(np.exp(u) + np.exp(-u)))))\n",
    "\n",
    "def derivActivation_h(u):\n",
    "    return (((2/(np.exp(u) + np.exp(-u)))*(2/(np.exp(u) + np.exp(-u)))))\n",
    "\n",
    "def activation_h(u):\n",
    "    return np.tanh(u)"
   ]
  },
  {
   "cell_type": "code",
   "execution_count": 51,
   "metadata": {},
   "outputs": [],
   "source": [
    "def trainMLP(x, y, p, eta, tol, maxEpocas):\n",
    "    m = y.shape[1]\n",
    "    n = np.shape(x)[1]\n",
    "    N = np.shape(x)[0]\n",
    "    z = np.matrix(np.random.rand(n+1,p)-0.5)\n",
    "    w = np.matrix(np.random.rand(p+1,m)-0.5)\n",
    "    \n",
    "    xAtual = np.zeros((1, n+1))\n",
    "    nEpocas = 0\n",
    "    erroEpoca = tol+1\n",
    "    evec = [[0]]\n",
    "\n",
    "    while erroEpoca > tol and nEpocas < maxEpocas - 1:\n",
    "        ei2 = 0\n",
    "        xseq = np.arange(N)\n",
    "\n",
    "        for i in range(N):\n",
    "            irand = xseq[i]\n",
    "            xAtual[0,:-1] = x[irand]\n",
    "            xAtual[0,-1] = 1\n",
    "            yAtual = y[irand]\n",
    "\n",
    "            U = np.array(np.dot(xAtual,z), ndmin = 2)\n",
    "            h_i = activation_h(U)\n",
    "            hBias = np.append(h_i,[[1]],axis=1)\n",
    "\n",
    "            yhat_i = np.array(np.dot(hBias, w), ndmin=2)\n",
    "            yhatClass_i = activation_y(yhat_i)\n",
    "\n",
    "            e_i = yAtual - yhatClass_i\n",
    "            flinhaO = derivActivation_y(yhat_i)\n",
    "            dO= e_i*flinhaO\n",
    "\n",
    "            wMinus = w[:-1, :]\n",
    "            eHidden = np.dot(dO, wMinus.T)\n",
    "            flinhaU = derivActivation_h(U)\n",
    "            dU = np.multiply(eHidden, flinhaU)\n",
    "\n",
    "            w = w +eta*np.dot(hBias.T, dO)\n",
    "            z = z +eta*np.dot(xAtual.T, dU)\n",
    "            ei2 = ei2 + np.dot(e_i, e_i.T)\n",
    "\n",
    "        if nEpocas == 0: evec[0] = np.squeeze(ei2/N)\n",
    "        nEpocas += 1\n",
    "        evec = np.append(evec, np.squeeze(ei2/N))\n",
    "        erroEpoca = evec[nEpocas]\n",
    "\n",
    "    return w, z, evec"
   ]
  },
  {
   "cell_type": "code",
   "execution_count": 52,
   "metadata": {},
   "outputs": [],
   "source": [
    "def yMLP(x, z, w):\n",
    "  x = np.append(x, np.ones((x.shape[0],1)), axis = 1)\n",
    "  h_hat = activation_h(np.dot(x,z))\n",
    "  h_bias = np.append(h_hat, np.ones((h_hat.shape[0], 1)), axis = 1)\n",
    "  output = np.dot(h_bias, w)\n",
    "  yEval = activation_y(output)\n",
    "  \n",
    "  return yEval"
   ]
  },
  {
   "cell_type": "code",
   "execution_count": 53,
   "metadata": {},
   "outputs": [],
   "source": [
    "def errorCalc(yEval, actualClass):\n",
    "  error = np.multiply(actualClass != yEval, 1)\n",
    "  meanError = np.mean(error)\n",
    "  stdError = np.std(error)\n",
    "  accuracy = 1 - meanError\n",
    "  errorTest = np.dot(error, error.T)\n",
    "  errorTest_MS = np.mean(errorTest)\n",
    "\n",
    "  return accuracy, stdError, errorTest_MS"
   ]
  },
  {
   "cell_type": "code",
   "execution_count": 54,
   "metadata": {},
   "outputs": [
    {
     "data": {
      "image/png": "[encoded data removed]",
      "text/plain": [
       "<Figure size 432x288 with 1 Axes>"
      ]
     },
     "metadata": {
      "needs_background": "light"
     },
     "output_type": "display_data"
    }
   ],
   "source": [
    "eta = 0.001\n",
    "max_epocas = 300\n",
    "p_in = 22\n",
    "tol = 1e-6\n",
    "\n",
    "x_train = xin_train\n",
    "y_train = class_train\n",
    "\n",
    "wt, zt, erroEpocas = trainMLP(x_train, y_train, p_in, eta, tol, max_epocas)\n",
    "\n",
    "# print(\"Pesos:\\n\" + str(wt))\n",
    "# print(\"Z:\\n\" + str(zt))\n",
    "plt.plot(erroEpocas)\n",
    "plt.show()"
   ]
  },
  {
   "cell_type": "code",
   "execution_count": 55,
   "metadata": {},
   "outputs": [
    {
     "name": "stdout",
     "output_type": "stream",
     "text": [
      "   Acurácia  Desvio Padrão  Erro Médio Quadrático\n",
      "0       0.5            0.5                   0.25\n"
     ]
    }
   ],
   "source": [
    "test_set = np.array(test_range)\n",
    "yEval = np.sign(np.squeeze(yMLP(test_set, zt, wt))).T\n",
    "scores = errorCalc(yEval, actual_test)\n",
    "scores = pd.DataFrame(np.array(scores, ndmin = 2), columns = ['Acurácia', 'Desvio Padrão', 'Erro Médio Quadrático'])\n",
    "print(scores)"
   ]
  },
  {
   "cell_type": "code",
   "execution_count": 56,
   "metadata": {},
   "outputs": [
    {
     "data": {
      "image/png": "[encoded data removed]",
      "text/plain": [
       "<Figure size 432x288 with 1 Axes>"
      ]
     },
     "metadata": {
      "needs_background": "light"
     },
     "output_type": "display_data"
    }
   ],
   "source": [
    "\n",
    "# matrix de pontos xy\n",
    "xgrid = np.linspace(-1.1, 1.1, 250)\n",
    "ygrid = np.linspace(-1.1, 1.1, 250)\n",
    "xygrid = np.zeros((xgrid.shape[0]*ygrid.shape[0], 2))\n",
    "xMeshGrid, yMeshGrid = np.meshgrid(xgrid, ygrid)\n",
    "classMeshgrid = np.zeros((xgrid.shape[0], ygrid.shape[0]))\n",
    "\n",
    "for i, i_pt in enumerate(xgrid):\n",
    "    for j, j_pt in enumerate(ygrid):\n",
    "        H = activation_h(np.dot(np.array([j_pt, i_pt, 1]), zt))\n",
    "        H_bias = np.append(H, [[1]], axis = 1)\n",
    "        xyClass = np.sign(activation_y(np.dot(H_bias, wt)))\n",
    "        classMeshgrid[i, j] = xyClass\n",
    "\n",
    "###\n",
    "plt.scatter(x1_train, y1_train, color='b')\n",
    "plt.scatter(x2_train, y2_train, color='r')\n",
    "plt.scatter(x1_test, y1_test, color='b', facecolor='none')\n",
    "plt.scatter(x2_test, y2_test, color='r', facecolor='none')\n",
    "plt.legend(['Train 1', 'Train 2', 'Test 1', 'Test 2'])\n",
    "plt.contour(xMeshGrid, yMeshGrid, classMeshgrid, colors=['k'], levels = 0)\n",
    "plt.show()"
   ]
  }
 ],
 "metadata": {
  "interpreter": {
   "hash": "63fd5069d213b44bf678585dea6b12cceca9941eaf7f819626cde1f2670de90d"
  },
  "kernelspec": {
   "display_name": "Python 3.9.4 64-bit",
   "language": "python",
   "name": "python3"
  },
  "language_info": {
   "codemirror_mode": {
    "name": "ipython",
    "version": 3
   },
   "file_extension": ".py",
   "mimetype": "text/x-python",
   "name": "python",
   "nbconvert_exporter": "python",
   "pygments_lexer": "ipython3",
   "version": "3.9.4"
  },
  "orig_nbformat": 4
 },
 "nbformat": 4,
 "nbformat_minor": 2
}
