{
 "cells": [
  {
   "cell_type": "markdown",
   "metadata": {},
   "source": [
    "##### 1.1 - DISTRIBUIÇÃO NORMAL\n",
    "\n",
    "2. ELM"
   ]
  },
  {
   "cell_type": "code",
   "execution_count": 1,
   "metadata": {},
   "outputs": [],
   "source": [
    "import numpy as np\n",
    "import matplotlib.pyplot as plt"
   ]
  },
  {
   "cell_type": "markdown",
   "metadata": {},
   "source": [
    "São deifnido as funções para treino do ELM."
   ]
  },
  {
   "cell_type": "code",
   "execution_count": 2,
   "metadata": {},
   "outputs": [],
   "source": [
    "def trainELMPseudoInverse(x, y, p):\n",
    "    n = np.shape(x)[1]\n",
    "    z = np.random.rand(n, p) - 0.5\n",
    "    z = np.resize(z, (z.shape[0], z.shape[1]))\n",
    "\n",
    "    for _ in range(maxEpocas):\n",
    "        h = np.tanh(np.dot(x, z))\n",
    "        w = np.dot(np.linalg.pinv(h), y)\n",
    "\n",
    "    return z,w\n",
    "\n",
    "def yELM(z, w, test):\n",
    "    w = np.resize(w, (w.shape[0], 1))\n",
    "    classified_H = np.tanh(np.dot(test, z))\n",
    "    classified = np.sign(np.tanh(np.dot(classified_H, w)))\n",
    "    return classified\n",
    "    \n",
    "def errorCalc(yEval, actualClass):\n",
    "    error = np.absolute(actualClass - yEval)\n",
    "    meanError = np.mean(error)\n",
    "    stdError = np.std(error)\n",
    "    accuracy = 1 - meanError\n",
    "    errorTest = (yEval - actualClass)**2\n",
    "    errorTest_MS = np.mean(errorTest)\n",
    "\n",
    "    return accuracy, stdError, errorTest_MS"
   ]
  },
  {
   "cell_type": "markdown",
   "metadata": {},
   "source": [
    "Inicialmente define-se os input de dados para a distribuição normal."
   ]
  },
  {
   "cell_type": "code",
   "execution_count": 3,
   "metadata": {},
   "outputs": [],
   "source": [
    "N = 100\n",
    "\n",
    "# 70% for train and 30% for test\n",
    "trainSize = int(0.7*N)\n",
    "testSize = N - trainSize\n",
    "\n",
    "sigma_1 = 0.4**2\n",
    "sigma_2 = 0.4**2\n",
    "\n",
    "mu_1 = 2\n",
    "mu_2 = 4\n",
    "\n",
    "mean_1 = [mu_1, mu_1]\n",
    "mean_2 = [mu_2, mu_2]\n",
    "\n",
    "cov_1 = [[sigma_1, 0], [0, sigma_1]]\n",
    "cov_2 = [[sigma_2, 0], [0, sigma_2]]\n",
    "\n",
    "# data train\n",
    "x1_train, y1_train = np.random.multivariate_normal(mean_1, cov_1, trainSize).T\n",
    "x2_train, y2_train = np.random.multivariate_normal(mean_2, cov_2, trainSize).T\n",
    "\n",
    "x1_train = np.resize(x1_train, (trainSize, 1))\n",
    "y1_train = np.resize(y1_train, (trainSize, 1))\n",
    "\n",
    "x2_train = np.resize(x2_train, (trainSize, 1))\n",
    "y2_train = np.resize(y2_train, (trainSize, 1))\n",
    "\n",
    "# data test\n",
    "x1_test, y1_test = np.random.multivariate_normal(mean_1, cov_1, testSize).T\n",
    "x2_test, y2_test = np.random.multivariate_normal(mean_2, cov_2, testSize).T\n",
    "\n",
    "x1_test = np.resize(x1_test, (testSize, 1))\n",
    "y1_test = np.resize(y1_test, (testSize, 1))\n",
    "\n",
    "x2_test = np.resize(x2_test, (testSize, 1))\n",
    "y2_test = np.resize(y2_test, (testSize, 1))"
   ]
  },
  {
   "cell_type": "markdown",
   "metadata": {},
   "source": [
    "São definido as classes de treino e de testes."
   ]
  },
  {
   "cell_type": "code",
   "execution_count": 4,
   "metadata": {},
   "outputs": [],
   "source": [
    "# class train\n",
    "class_train_1 = -1*np.ones((x1_train.shape[0], 1))\n",
    "class_train_2 = np.ones((x2_train.shape[0], 1))\n",
    "\n",
    "class_train = np.concatenate((class_train_1, class_train_2), axis = 0)\n",
    "\n",
    "# trains\n",
    "xin_train_1 = np.concatenate((x1_train, y1_train), axis = 1)\n",
    "xin_train_2 = np.concatenate((x2_train, y2_train), axis = 1)\n",
    "xin_train_1_2 = np.concatenate((xin_train_1, xin_train_2), axis = 0)\n",
    "\n",
    "bias = np.ones((xin_train_1_2.shape[0], 1))\n",
    "xin = np.concatenate((xin_train_1_2, bias), axis = 1)\n",
    "\n",
    "# test\n",
    "class_test_1 = -1*np.ones((x1_test.shape[0], 1))\n",
    "class_test_2 = np.ones((x2_test.shape[0], 1))\n",
    "class_test = np.concatenate((class_test_1, class_test_2))\n",
    "\n",
    "xin_test_1 = np.concatenate((x1_test, y1_test), axis = 1)\n",
    "xin_test_2 = np.concatenate((x2_test, y2_test), axis = 1)\n",
    "\n",
    "test_range = np.concatenate((xin_test_1, xin_test_2), axis = 0)\n",
    "test_range = np.concatenate((test_range, np.ones((test_range.shape[0], 1))), axis = 1)\n"
   ]
  },
  {
   "cell_type": "markdown",
   "metadata": {},
   "source": [
    "Então, é feito o treino para o ELM, bem como calculado o erro para cada uma das epocas"
   ]
  },
  {
   "cell_type": "code",
   "execution_count": 5,
   "metadata": {},
   "outputs": [],
   "source": [
    "maxEpocas = 30\n",
    "p = 3\n",
    "\n",
    "accuracy_train = []\n",
    "accuracy_ref = 0\n",
    "\n",
    "# epoca erro calc\n",
    "for i in range(maxEpocas):\n",
    "  np.random.seed(i)\n",
    "  aux = list(zip(xin, class_train))\n",
    "  np.random.shuffle(aux)\n",
    "  xin, class_train = zip(*aux)\n",
    "\n",
    "  z, wt = trainELMPseudoInverse(xin, class_train, p)\n",
    "\n",
    "  classified_H = np.tanh(np.dot(test_range, z))\n",
    "  classified = np.sign(np.tanh(np.dot(classified_H, wt)))\n",
    "\n",
    "  accuracy, stdError, errorMS = errorCalc(classified, class_test)\n",
    "  \n",
    "  if (accuracy > accuracy_ref):\n",
    "    accuracy_ref = accuracy\n",
    "    std_ref = stdError\n",
    "    erroMS_ref = errorMS\n",
    "    classified_ref = classified\n",
    "    wt_ref = wt\n",
    "    z_ref = z\n",
    "\n",
    "  accuracy_train.append(accuracy)\n"
   ]
  },
  {
   "cell_type": "markdown",
   "metadata": {},
   "source": [
    "É realizado a exibição de resultados, com a curva de separação"
   ]
  },
  {
   "cell_type": "code",
   "execution_count": 6,
   "metadata": {},
   "outputs": [
    {
     "data": {
      "image/png": "[encoded data removed]",
      "text/plain": [
       "<Figure size 432x288 with 1 Axes>"
      ]
     },
     "metadata": {
      "needs_background": "light"
     },
     "output_type": "display_data"
    }
   ],
   "source": [
    "\n",
    "# matrix de pontos xy\n",
    "xgrid = np.linspace(-0.1, 6.1, 250)\n",
    "ygrid = np.linspace(-0.1, 6.1, 250)\n",
    "xygrid = np.zeros((xgrid.shape[0]*ygrid.shape[0], 2))\n",
    "xMeshGrid, yMeshGrid = np.meshgrid(xgrid, ygrid)\n",
    "\n",
    "classMeshgrid = np.zeros((xgrid.shape[0], ygrid.shape[0]))\n",
    "\n",
    "for i, i_pt in enumerate(xgrid):\n",
    "  for j, j_pt in enumerate(ygrid):\n",
    "    H = np.tanh(np.dot([j_pt, i_pt, 1], z_ref))\n",
    "    xyClass = np.sign(np.tanh(np.dot(H, wt_ref)))\n",
    "    classMeshgrid[i, j] = xyClass\n",
    "\n",
    "plt.scatter(x1_train, y1_train, color='b')\n",
    "plt.scatter(x2_train, y2_train, color='r')\n",
    "plt.scatter(x1_test, y1_test, color='b', facecolor='none')\n",
    "plt.scatter(x2_test, y2_test, color='r', facecolor='none')\n",
    "plt.legend(['Train 1', 'Train 2', 'Test 1', 'Test 2'])\n",
    "plt.contour(xMeshGrid, yMeshGrid, classMeshgrid, colors=['k'], levels = 0)\n",
    "plt.show()\n"
   ]
  },
  {
   "cell_type": "markdown",
   "metadata": {},
   "source": [
    "É feita o calculo e exibição tanto do erro quadrado quanto da acurácia do modelo."
   ]
  },
  {
   "cell_type": "code",
   "execution_count": 7,
   "metadata": {},
   "outputs": [
    {
     "name": "stdout",
     "output_type": "stream",
     "text": [
      "Erro quadrado:     0.0000\n",
      "Accuracy:     1.0000\n",
      "Std Error:     0.0000\n"
     ]
    },
    {
     "data": {
      "image/png": "[encoded data removed]",
      "text/plain": [
       "<Figure size 432x288 with 1 Axes>"
      ]
     },
     "metadata": {
      "needs_background": "light"
     },
     "output_type": "display_data"
    }
   ],
   "source": [
    "\n",
    "classified_H = np.tanh(np.dot(test_range, z_ref))\n",
    "classified = np.sign(np.tanh(np.dot(classified_H, wt_ref)))\n",
    "\n",
    "accuracy, stdError, errorMS = errorCalc(classified, class_test)\n",
    "errorTest = (classified - class_test)**2\n",
    "errorTest_MS = np.mean(errorTest)\n",
    "\n",
    "print('Erro quadrado: {:10.4f}'.format(errorTest_MS))\n",
    "print('Accuracy: {:10.4f}'.format(accuracy_ref))\n",
    "print('Std Error: {:10.4f}'.format(stdError))\n",
    "\n",
    "plt.plot(accuracy_train)\n",
    "plt.show()"
   ]
  }
 ],
 "metadata": {
  "interpreter": {
   "hash": "63fd5069d213b44bf678585dea6b12cceca9941eaf7f819626cde1f2670de90d"
  },
  "kernelspec": {
   "display_name": "Python 3.9.4 64-bit",
   "language": "python",
   "name": "python3"
  },
  "language_info": {
   "codemirror_mode": {
    "name": "ipython",
    "version": 3
   },
   "file_extension": ".py",
   "mimetype": "text/x-python",
   "name": "python",
   "nbconvert_exporter": "python",
   "pygments_lexer": "ipython3",
   "version": "3.9.4"
  },
  "orig_nbformat": 4
 },
 "nbformat": 4,
 "nbformat_minor": 2
}
