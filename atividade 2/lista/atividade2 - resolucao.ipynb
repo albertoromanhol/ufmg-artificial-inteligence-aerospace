{
 "cells": [
  {
   "cell_type": "markdown",
   "metadata": {},
   "source": [
    "# Segunda lista de exercícios\n",
    "\n",
    "Alberto Romanhol Moreira - 2017051564\n",
    "\n",
    "Aplicação de conceitos de Redes Neurais Artificiais."
   ]
  },
  {
   "cell_type": "markdown",
   "metadata": {},
   "source": [
    "#### 1 - Classificação de padrões\n",
    "\n",
    "Classificação de amostras de duas classe. Aplicando as arquiteturas de rede e comparando valores de acurácia e número de neurônios na camada escondida.\n",
    "\n",
    "- Perceptron Simples\n",
    "- ELM\n",
    "- Perceptron de múltiplas camadas"
   ]
  },
  {
   "cell_type": "markdown",
   "metadata": {},
   "source": [
    "A seguir, serão apresentado o trabalho realizado para os dados de Distribuição Normal, XOR e Spirals. Observa-se que para os métodos propostos acima, a única condição que se altera no código entre os modelo é o dado de entrada. \n",
    "\n",
    "Utilizou-se deste dados, 70% para treinamento e o resto para testes do modelo. Durante toda modelagem, além dos resultados apresentados, com a curva de separação entre as classes, também é apresentado gráficos com curva de erro e acurácia do modelo.\n",
    "\n",
    "Observa-se que alguns métodos, como o MLP se adequaram melhor aos dados de entrada do XOR e do Spirals. Já o uso do perceptron, não se saiu tão bem para estes dados, mas foi um dos melhores para a distribuição normal.\n",
    "\n",
    "Obs: ao tentar gerar um notebook para todos os modelos e dados de entrada, meus resultados se encontraram como divergência, então, gerei vários notebooks e realizei a junção dos PDFs."
   ]
  }
 ],
 "metadata": {
  "language_info": {
   "name": "python"
  },
  "orig_nbformat": 4
 },
 "nbformat": 4,
 "nbformat_minor": 2
}
