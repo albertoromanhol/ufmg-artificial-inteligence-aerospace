{
 "cells": [
  {
   "cell_type": "code",
   "execution_count": 21,
   "metadata": {},
   "outputs": [],
   "source": [
    "import pandas as pd\n",
    "import numpy as np\n",
    "import matplotlib.pyplot as plt"
   ]
  },
  {
   "cell_type": "code",
   "execution_count": 22,
   "metadata": {},
   "outputs": [],
   "source": [
    "t = np.arange(0, 2*np.pi, 0.1*np.pi)\n",
    "xgen = np.sin(t)\n",
    "y = 4*xgen+2"
   ]
  },
  {
   "cell_type": "code",
   "execution_count": 23,
   "metadata": {},
   "outputs": [],
   "source": [
    "bias = np.ones((xgen.shape[0], 1))\n",
    "xin = np.append(np.matrix(xgen).T, bias, axis = 1)"
   ]
  },
  {
   "cell_type": "code",
   "execution_count": 24,
   "metadata": {},
   "outputs": [],
   "source": [
    "def trainAdaline(x, y, eta, tol, maxEpocas):\n",
    "    N = np.shape(x)[0]\n",
    "    n = np.shape(x)[1]\n",
    "    w = np.random.rand(n, 1)\n",
    "\n",
    "    nEpocas = 0\n",
    "    erroEpoca = tol + 1\n",
    "    evec = np.zeros(maxEpocas)\n",
    "    xseq = np.arange(N)\n",
    "\n",
    "    while erroEpoca > tol and nEpocas < maxEpocas: \n",
    "        ei2 = 0\n",
    "\n",
    "        for i in range(N):\n",
    "            irand = xseq[i]\n",
    "            yhat_i = (np.dot(x[irand], w))\n",
    "            e_i = y[irand] - yhat_i\n",
    "            dw = eta*e_i*x[irand]\n",
    "            w = w + dw.T\n",
    "            ei2 = ei2 + e_i**2\n",
    "        nEpocas += 1\n",
    "\n",
    "        evec[nEpocas] = ei2/N\n",
    "        erroEpoca = evec[nEpocas]\n",
    "    \n",
    "    return w, evec[0:nEpocas]"
   ]
  },
  {
   "cell_type": "code",
   "execution_count": 25,
   "metadata": {},
   "outputs": [
    {
     "name": "stdout",
     "output_type": "stream",
     "text": [
      "[[3.870663  ]\n",
      " [1.99422685]]\n"
     ]
    },
    {
     "data": {
      "image/png": "[encoded data removed]",
      "text/plain": [
       "<Figure size 432x288 with 1 Axes>"
      ]
     },
     "metadata": {
      "needs_background": "light"
     },
     "output_type": "display_data"
    }
   ],
   "source": [
    "eta = 1\n",
    "tol = 0.01\n",
    "maxEpocas = 200\n",
    "wt, evec = trainAdaline(xin, np.matrix(y).T, eta, tol, maxEpocas)\n",
    "\n",
    "print(wt)\n",
    "y_testhat = xgen*wt[0,0] + wt[1,0]\n",
    "\n",
    "plt.scatter(t, xgen, color = 'r')\n",
    "plt.scatter(t, y, edgecolors = 'b')\n",
    "plt.scatter(t, y_testhat, edgecolors = 'b', facecolor = 'none')\n",
    "plt.plot(t, xgen, color = 'r')\n",
    "plt.plot(t, y, color = 'b')\n",
    "plt.show()"
   ]
  }
 ],
 "metadata": {
  "interpreter": {
   "hash": "63fd5069d213b44bf678585dea6b12cceca9941eaf7f819626cde1f2670de90d"
  },
  "kernelspec": {
   "display_name": "Python 3.9.4 64-bit",
   "language": "python",
   "name": "python3"
  },
  "language_info": {
   "codemirror_mode": {
    "name": "ipython",
    "version": 3
   },
   "file_extension": ".py",
   "mimetype": "text/x-python",
   "name": "python",
   "nbconvert_exporter": "python",
   "pygments_lexer": "ipython3",
   "version": "3.9.4"
  },
  "orig_nbformat": 4
 },
 "nbformat": 4,
 "nbformat_minor": 2
}
